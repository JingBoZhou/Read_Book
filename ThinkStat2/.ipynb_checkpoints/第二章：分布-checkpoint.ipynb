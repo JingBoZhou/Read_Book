{
 "cells": [
  {
   "cell_type": "markdown",
   "metadata": {},
   "source": [
    "# 第2章 分布"
   ]
  },
  {
   "cell_type": "markdown",
   "metadata": {},
   "source": [
    "## Setup\n",
    "\n",
    "导入一些模块，设定数据路径，并且定义一些之后会用到的类和函数"
   ]
  },
  {
   "cell_type": "code",
   "execution_count": 1,
   "metadata": {},
   "outputs": [],
   "source": [
    "import os\n",
    "import re\n",
    "import pandas as pd\n",
    "import numpy as np\n",
    "from collections import defaultdict,Counter\n",
    "from operator import itemgetter \n",
    "\n",
    "%matplotlib inline\n",
    "import matplotlib\n",
    "import matplotlib.pyplot as plt\n",
    "plt.rcParams['axes.labelsize'] = 14\n",
    "plt.rcParams['xtick.labelsize'] = 12\n",
    "plt.rcParams['ytick.labelsize'] = 12\n",
    "\n",
    "import nsfg\n",
    "import first\n",
    "import thinkstats2\n",
    "\n",
    "ROOT_PATH = \".\"\n",
    "DATA_PATH = os.path.join(ROOT_PATH,\"data\")"
   ]
  },
  {
   "cell_type": "markdown",
   "metadata": {},
   "source": [
    "描述变量的最佳方法之一是列出该变量在数据集中的值，以及每一个值出现的次数。这种描述称为该变量的`分布（distribution）`。\n",
    "\n",
    "分布最常用的呈现方法是直方图（histogram），即展示每个值的`频数（frequency）`的图形。在这里，频数指一个值出现的次数。\n",
    "\n",
    "使用Python计算频数的一个有效方法是使用字典，假设有一个值序列t。"
   ]
  },
  {
   "cell_type": "code",
   "execution_count": 2,
   "metadata": {},
   "outputs": [
    {
     "data": {
      "text/plain": [
       "{1: 1, 2: 2, 3: 1, 5: 1}"
      ]
     },
     "execution_count": 2,
     "metadata": {},
     "output_type": "execute_result"
    }
   ],
   "source": [
    "t = [1, 2, 2, 3, 5]\n",
    "hist = {}\n",
    "for x in t:\n",
    "    hist[x] = hist.get(x, 0) + 1\n",
    "hist"
   ]
  },
  {
   "cell_type": "markdown",
   "metadata": {},
   "source": [
    "执行上面代码，可以得到一个将值映射到频数的字典。此外，也可以使用collections模块中定义的Counter类。结果是一个Counter对象，是字典类的子类。"
   ]
  },
  {
   "cell_type": "code",
   "execution_count": 3,
   "metadata": {},
   "outputs": [
    {
     "data": {
      "text/plain": [
       "Counter({1: 1, 2: 2, 3: 1, 5: 1})"
      ]
     },
     "execution_count": 3,
     "metadata": {},
     "output_type": "execute_result"
    }
   ],
   "source": [
    "counter = Counter(t)\n",
    "counter"
   ]
  },
  {
   "cell_type": "markdown",
   "metadata": {},
   "source": [
    "还有一个方法就是上一章pandas方法value_counts()"
   ]
  },
  {
   "cell_type": "markdown",
   "metadata": {},
   "source": [
    "## 2.1表示直方图"
   ]
  },
  {
   "cell_type": "markdown",
   "metadata": {},
   "source": [
    "本书自己在thinkstats2.py中创建了一个类Hist,Hist的构造函数参数可以是序列，字典，pandas的Series对象或者另外一个Hist对象，下面代码可以初始化一个Hist对象："
   ]
  },
  {
   "cell_type": "code",
   "execution_count": 4,
   "metadata": {},
   "outputs": [
    {
     "data": {
      "text/plain": [
       "Hist({1: 1, 2: 2, 3: 1, 5: 1})"
      ]
     },
     "execution_count": 4,
     "metadata": {},
     "output_type": "execute_result"
    }
   ],
   "source": [
    "hist = thinkstats2.Hist([1,2,2,3,5])\n",
    "hist"
   ]
  },
  {
   "cell_type": "markdown",
   "metadata": {},
   "source": [
    "Hist对象提供Freq方法，其参数是一个值，返回结果是这个值的频数"
   ]
  },
  {
   "cell_type": "code",
   "execution_count": 5,
   "metadata": {},
   "outputs": [
    {
     "data": {
      "text/plain": [
       "2"
      ]
     },
     "execution_count": 5,
     "metadata": {},
     "output_type": "execute_result"
    }
   ],
   "source": [
    "hist.Freq(2)"
   ]
  },
  {
   "cell_type": "markdown",
   "metadata": {},
   "source": [
    "方括号的操作符也是一样"
   ]
  },
  {
   "cell_type": "code",
   "execution_count": 6,
   "metadata": {},
   "outputs": [
    {
     "data": {
      "text/plain": [
       "2"
      ]
     },
     "execution_count": 6,
     "metadata": {},
     "output_type": "execute_result"
    }
   ],
   "source": [
    "hist[2]"
   ]
  },
  {
   "cell_type": "markdown",
   "metadata": {},
   "source": [
    "如果传入的参数值在Hist中不存在，频数就是0"
   ]
  },
  {
   "cell_type": "code",
   "execution_count": 7,
   "metadata": {},
   "outputs": [
    {
     "data": {
      "text/plain": [
       "0"
      ]
     },
     "execution_count": 7,
     "metadata": {},
     "output_type": "execute_result"
    }
   ],
   "source": [
    "hist.Freq(4)"
   ]
  },
  {
   "cell_type": "markdown",
   "metadata": {},
   "source": [
    "The Values method returns the values:"
   ]
  },
  {
   "cell_type": "code",
   "execution_count": 8,
   "metadata": {},
   "outputs": [
    {
     "data": {
      "text/plain": [
       "dict_keys([1, 2, 3, 5])"
      ]
     },
     "execution_count": 8,
     "metadata": {},
     "output_type": "execute_result"
    }
   ],
   "source": [
    "hist.Values()"
   ]
  },
  {
   "cell_type": "markdown",
   "metadata": {},
   "source": [
    "你可以像下面这样迭代值和频率："
   ]
  },
  {
   "cell_type": "code",
   "execution_count": 9,
   "metadata": {},
   "outputs": [
    {
     "name": "stdout",
     "output_type": "stream",
     "text": [
      "1 1\n",
      "2 2\n",
      "3 1\n",
      "5 1\n"
     ]
    }
   ],
   "source": [
    "for val in sorted(hist.Values()):\n",
    "    print(val, hist[val])"
   ]
  },
  {
   "cell_type": "markdown",
   "metadata": {},
   "source": [
    "也可以使用Items遍历值-频数对"
   ]
  },
  {
   "cell_type": "code",
   "execution_count": 10,
   "metadata": {},
   "outputs": [
    {
     "name": "stdout",
     "output_type": "stream",
     "text": [
      "1 1\n",
      "2 2\n",
      "3 1\n",
      "5 1\n"
     ]
    }
   ],
   "source": [
    "for val, freq in hist.Items():\n",
    "    print(val, freq)"
   ]
  },
  {
   "cell_type": "markdown",
   "metadata": {},
   "source": [
    "## 绘制直方图\n",
    "\n",
    "作者编写了thinkplot.py模块，可以提供各种函数用于绘制Hist及文件，这个模块基于matplotlib包的pyplot"
   ]
  },
  {
   "cell_type": "code",
   "execution_count": 11,
   "metadata": {},
   "outputs": [
    {
     "data": {
      "image/png": "[encoded data removed]",
      "text/plain": [
       "<matplotlib.figure.Figure at 0x7feae30d1ef0>"
      ]
     },
     "metadata": {},
     "output_type": "display_data"
    }
   ],
   "source": [
    "%matplotlib inline\n",
    "import thinkplot\n",
    "thinkplot.Hist(hist)\n",
    "thinkplot.Config(xlabel='value', ylabel='frequency')"
   ]
  },
  {
   "cell_type": "markdown",
   "metadata": {},
   "source": [
    "## 2.3 美国家庭增长调查中的变量\n",
    "\n",
    "首先读入数据，选取成功生产的记录。"
   ]
  },
  {
   "cell_type": "code",
   "execution_count": 12,
   "metadata": {},
   "outputs": [],
   "source": [
    "preg = nsfg.ReadFemPreg()\n",
    "live = preg[preg.outcome == 1]"
   ]
  },
  {
   "cell_type": "markdown",
   "metadata": {},
   "source": [
    "方括号中的表达式是一个布尔型Series，从DataFrame中选取满足条件的行，返回一个新的DataFrame，接下来要为成功生产记录的birthwgt_lb生成并绘制直方图"
   ]
  },
  {
   "cell_type": "code",
   "execution_count": 13,
   "metadata": {},
   "outputs": [
    {
     "name": "stdout",
     "output_type": "stream",
     "text": [
      "众数为[(7.0, 3049)]\n"
     ]
    },
    {
     "data": {
      "image/png": "[encoded data removed]",
      "text/plain": [
       "<matplotlib.figure.Figure at 0x7fead2aa4198>"
      ]
     },
     "metadata": {},
     "output_type": "display_data"
    }
   ],
   "source": [
    "ax = live[\"birthwgt_lb\"].hist(bins=15)\n",
    "ax.set(xlabel=\"pounds\", ylabel=\"frequency\")\n",
    "\n",
    "def Mode(content):\n",
    "    from collections import Counter\n",
    "    \n",
    "    counter = Counter(content)\n",
    "    top_one = counter.most_common(1)\n",
    "    return top_one\n",
    "# mode_number = sorted(Counter(live.birthwgt_lb).items(), key=itemgetter(1),reverse=True)[0][0]\n",
    "mode_number = Mode(live.birthwgt_lb)\n",
    "print(\"众数为{}\".format(mode_number))"
   ]
  },
  {
   "cell_type": "markdown",
   "metadata": {},
   "source": [
    "上图中出现最多的值为7磅，这个值称为`众数（mode）`。这个分布大致为钟形。钟形是正态(normal)分布，即高斯(Gaussian)分布的形状。但是结果分布是不对称的，相较右方，尾端（tail）向左延伸更长，这一点与正态分布不符"
   ]
  },
  {
   "cell_type": "code",
   "execution_count": 14,
   "metadata": {},
   "outputs": [
    {
     "name": "stdout",
     "output_type": "stream",
     "text": [
      "众数为22.75\n"
     ]
    },
    {
     "data": {
      "image/png": "[encoded data removed]",
      "text/plain": [
       "<matplotlib.figure.Figure at 0x7fead2aa41d0>"
      ]
     },
     "metadata": {},
     "output_type": "display_data"
    }
   ],
   "source": [
    "ax = live[\"agepreg\"].hist(bins=32)\n",
    "ax.set(xlabel=\"age\", ylabel=\"frequency\")\n",
    "mode_number = sorted(Counter(live.agepreg).items(), key=itemgetter(1),reverse=True)[0][0]\n",
    "print(\"众数为{}\".format(mode_number))"
   ]
  },
  {
   "cell_type": "markdown",
   "metadata": {},
   "source": [
    "上图展示了产妇在妊娠结束时的年龄，这一部分众数为21，分布形状大致为钟形，但是尾端向右伸展较长"
   ]
  },
  {
   "cell_type": "code",
   "execution_count": 15,
   "metadata": {},
   "outputs": [
    {
     "data": {
      "text/plain": [
       "<matplotlib.axes._subplots.AxesSubplot at 0x7fead13dd588>"
      ]
     },
     "execution_count": 15,
     "metadata": {},
     "output_type": "execute_result"
    },
    {
     "data": {
      "image/png": "[encoded data removed]",
      "text/plain": [
       "<matplotlib.figure.Figure at 0x7fead2af9b00>"
      ]
     },
     "metadata": {},
     "output_type": "display_data"
    }
   ],
   "source": [
    "live[\"prglngth\"].hist(bins=40)"
   ]
  },
  {
   "cell_type": "markdown",
   "metadata": {},
   "source": [
    "上图展示了妊娠周数，图中最长出现的值为39周，这一分布左尾比右尾更长"
   ]
  },
  {
   "cell_type": "markdown",
   "metadata": {},
   "source": [
    "## 2.4 离群值\n",
    "\n",
    "再进一步探索之前，我们最好检查一下离群值（outlier）。离群值是极端值，可能是测量和记录中出现的错误，也可能是偶然事件的准确汇报\n",
    "\n",
    "如下妊娠周数，当妊娠周数超过42周时，大部分医生会建议催产，因此大于42周的数据是令人惊讶的，从医学角度看，大于50周几乎是不可能的"
   ]
  },
  {
   "cell_type": "code",
   "execution_count": 16,
   "metadata": {},
   "outputs": [
    {
     "name": "stdout",
     "output_type": "stream",
     "text": [
      "50 2\n",
      "48 7\n",
      "47 1\n",
      "46 1\n",
      "45 10\n",
      "44 46\n",
      "43 148\n",
      "42 328\n",
      "41 587\n",
      "40 1116\n"
     ]
    }
   ],
   "source": [
    "hist = Counter(live.prglngth)\n",
    "for weeks, freq in sorted(hist.items(),key=itemgetter(0),reverse=True)[:10]:\n",
    "    print(weeks, freq)"
   ]
  },
  {
   "cell_type": "markdown",
   "metadata": {},
   "source": [
    "## 2.5 第一胎\n",
    "\n",
    "我们可以比较第一胎和其他胎的周数分布了"
   ]
  },
  {
   "cell_type": "code",
   "execution_count": 17,
   "metadata": {},
   "outputs": [],
   "source": [
    "data = live.loc[:,[\"prglngth\", \"birthord\"]]\n",
    "data.columns = [\"prglngth\",\"group\"]\n",
    "data.group = data.group == 1"
   ]
  },
  {
   "cell_type": "code",
   "execution_count": 18,
   "metadata": {},
   "outputs": [
    {
     "data": {
      "text/plain": [
       "<matplotlib.legend.Legend at 0x7fead2a0c588>"
      ]
     },
     "execution_count": 18,
     "metadata": {},
     "output_type": "execute_result"
    },
    {
     "data": {
      "image/png": "[encoded data removed]",
      "text/plain": [
       "<matplotlib.figure.Figure at 0x7fead29170f0>"
      ]
     },
     "metadata": {},
     "output_type": "display_data"
    }
   ],
   "source": [
    "import seaborn as sns\n",
    "sns.set(style=\"whitegrid\")\n",
    "#plt.rcParams['axes.labelsize'] = 20\n",
    "#plt.rcParams['xtick.labelsize'] = 12\n",
    "#plt.rcParams['ytick.labelsize'] = 20\n",
    "\n",
    "f, ax = plt.subplots(figsize=(12, 9))\n",
    "\n",
    "g = sns.countplot(x=\"prglngth\", hue=\"group\", data=data)\n",
    "\n",
    "ax.set_ylabel('Frequncy')\n",
    "plt.legend(loc='upper right')"
   ]
  },
  {
   "cell_type": "markdown",
   "metadata": {},
   "source": [
    "## 2.6 分布概述\n",
    "\n",
    "* 集中趋势：变量值是否聚集在某个值附近\n",
    "  \n",
    "* 众数：是否有多个聚集点\n",
    "    \n",
    "* 展布：变量的变化性如何\n",
    "    \n",
    "* 尾部：当值偏离众数时，其概率降低多快\n",
    "    \n",
    "* 离群值：是否有远离众数的极端值\n",
    "\n",
    "`汇总统计量（summary statistic）`就是为了回答以上这些问题而设计的。目前最常用的汇总统计量是`均值（mean）`，用于描述分布的`集中趋势（central tendency）`。\n",
    "\n",
    "$$均值：\\overline{X} = \\frac{1}{n}\\sum_i^nX_i$$"
   ]
  },
  {
   "cell_type": "markdown",
   "metadata": {},
   "source": [
    "## 2.7 方差\n",
    "\n",
    "`方差（Variance）`是用于描述一个分布的变化性或展布（spread）的汇总统计量，计算方差的公式为：\n",
    "\n",
    "$$ S^2 = \\frac{1}{n} \\sum_i^n(x_i - \\overline{x})^2$$\n",
    "\n",
    "公式中的$x_i-\\overline{x}$称为`离差`，因此方差就是离差平方和的均值。方差的平方跟S是`标准差（standard deviation）`。\n",
    "\n",
    "Pandas数据结构提供计算均值、方差和标准差的方法。"
   ]
  },
  {
   "cell_type": "code",
   "execution_count": 19,
   "metadata": {},
   "outputs": [],
   "source": [
    "mean = live.prglngth.mean()\n",
    "var = live.prglngth.var()\n",
    "std = live.prglngth.std()"
   ]
  },
  {
   "cell_type": "markdown",
   "metadata": {},
   "source": [
    "## 2.8 效应量\n",
    "\n",
    "`效应量（effect size）`是用于描述效应大小的汇总统计量，例如：要描述两个组群之间的差异，一个显而易见的的选择是使用均值的差值（差值除以总计的平均值）。\n",
    "\n",
    "另一个描述效应量的方法是将群组之间的差值与群组内的变化性进行比较。Cohen's d就是这样的统计量，公式如下：\n",
    "$$ d = \\frac{\\overline{x_1} - \\overline{x_2}}{s}, s = \\sqrt{\\frac{(n_1 - 1)s_1^2 + (n_2 - 1)s_2^2}{n_1 + n_2 - 2}}$$\n",
    "\n",
    "其中$\\overline{x_1} 和 \\overline{x_2}$是各群组的均值，s是`合并标准差（pooled standard deviation）`，python代码如下："
   ]
  },
  {
   "cell_type": "code",
   "execution_count": 20,
   "metadata": {},
   "outputs": [],
   "source": [
    "def CohenEffectSize(group1, group2):\n",
    "    \"\"\"Computes Cohen's effect size for two groups.\n",
    "    \n",
    "    group1: Series or DataFrame\n",
    "    group2: Series or DataFrame\n",
    "    \n",
    "    returns: float if the arguments are Series;\n",
    "             Series if the arguments are DataFrames\n",
    "    \"\"\"\n",
    "    diff = group1.mean() - group2.mean()\n",
    "\n",
    "    var1 = group1.var()\n",
    "    var2 = group2.var()\n",
    "    n1, n2 = len(group1), len(group2)\n",
    "\n",
    "    pooled_var = (n1 * var1 + n2 * var2) / (n1 + n2)\n",
    "    d = diff / np.sqrt(pooled_var)\n",
    "    return d"
   ]
  },
  {
   "cell_type": "code",
   "execution_count": 24,
   "metadata": {},
   "outputs": [
    {
     "data": {
      "text/plain": [
       "0.028879044654449834"
      ]
     },
     "execution_count": 24,
     "metadata": {},
     "output_type": "execute_result"
    }
   ],
   "source": [
    "firsts = live.prglngth[live.birthord == 1]\n",
    "others = live.prglngth[live.birthord != 1]\n",
    "CohenEffectSize(firsts, others)"
   ]
  },
  {
   "cell_type": "code",
   "execution_count": null,
   "metadata": {},
   "outputs": [],
   "source": []
  }
 ],
 "metadata": {
  "kernelspec": {
   "display_name": "Python 3",
   "language": "python",
   "name": "python3"
  },
  "language_info": {
   "codemirror_mode": {
    "name": "ipython",
    "version": 3
   },
   "file_extension": ".py",
   "mimetype": "text/x-python",
   "name": "python",
   "nbconvert_exporter": "python",
   "pygments_lexer": "ipython3",
   "version": "3.6.3"
  }
 },
 "nbformat": 4,
 "nbformat_minor": 2
}
